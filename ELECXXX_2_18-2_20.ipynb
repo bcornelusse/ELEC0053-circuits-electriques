{
 "cells": [
  {
   "cell_type": "markdown",
   "metadata": {},
   "source": [
    "# Per unit normalization\n",
    "\n",
    "We have a balanced three phase system, represented by its single phase equivalent.\n",
    "The line impedance is neglected, we know the impedance load. \n",
    "\n",
    "We compare two things: \n",
    "\n",
    " - Normalization is applied first and then the electrical state is computed.\n",
    " - The electrical state is computed and normalized in PU.\n",
    " \n",
    "**TODO** "
   ]
  },
  {
   "cell_type": "code",
   "execution_count": 9,
   "metadata": {},
   "outputs": [
    {
     "name": "stdout",
     "output_type": "stream",
     "text": [
      "Electrical state (non-normalized):\n",
      "Voltage: 120.00 < 0.00 [deg]\n",
      "Impedance: 10.00 < 36.87 deg\n",
      "Current: 12.00 < -36.87 [deg]\n",
      "Active power: 1.15e+03 [W]\n",
      "Reactive power: 8.64e+02 [var]\n"
     ]
    }
   ],
   "source": [
    "from RSE.impedance import Impedance\n",
    "from RSE.phasor import Phasor\n",
    "import math\n",
    "\n",
    "# Data\n",
    "Vph = Phasor(120, 0)  # [V]\n",
    "phi = math.acos(0.8)\n",
    "\n",
    "# Electrical state, non-normalized\n",
    "Z_l = Impedance.from_polar(10, phi)\n",
    "I = Vph / Z_l\n",
    "S = Vph.herm(I)\n",
    "\n",
    "print(\"Electrical state (non-normalized):\")\n",
    "print(\"Voltage: \" + str(Vph))\n",
    "print(\"Impedance: \" + str(Z_l))\n",
    "print(\"Current: \" + str(I))\n",
    "print(\"Active power: %.2e [W]\" % (S.real))\n",
    "print(\"Reactive power: %.2e [var]\" % (S.imag))"
   ]
  },
  {
   "cell_type": "markdown",
   "metadata": {},
   "source": [
    "# Solve in per unit"
   ]
  },
  {
   "cell_type": "code",
   "execution_count": 2,
   "metadata": {},
   "outputs": [],
   "source": [
    "def solve_in_pu(P_base_3ph, V_line_base):\n",
    "    \n",
    "    print(\"Solve in pu:\")\n",
    "    \n",
    "    # Compute other base quantities\n",
    "    P_base = P_base_3ph / 3  # [W]\n",
    "    V_phase_base = V_line_base / math.sqrt(3)  # [V]\n",
    "    Z_base = V_phase_base**2 / P_base\n",
    "\n",
    "\n",
    "    # Normalize\n",
    "    Vph_pu = Vph / Phasor(V_phase_base, 0)\n",
    "    print(\"Voltage: \" + str(Vph_pu))\n",
    "\n",
    "    Z_l_pu = Z_l / Impedance(Z_base, 0)\n",
    "    print(\"Impedance: \" + str(Z_l_pu))\n",
    "    \n",
    "    I_pu = Vph_pu/Z_l_pu\n",
    "    S_pu = Vph_pu.herm(I_pu)\n",
    "    print(\"Current: \" + str(I_pu))\n",
    "    print(\"Complex power: %.2e + j* %.2e\" % (S_pu.real, S_pu.imag))\n"
   ]
  },
  {
   "cell_type": "markdown",
   "metadata": {},
   "source": [
    "## Ex post per unit normalization"
   ]
  },
  {
   "cell_type": "code",
   "execution_count": 3,
   "metadata": {},
   "outputs": [],
   "source": [
    "def ex_post_normalize(P_base_3ph, V_line_base):\n",
    "\n",
    "    print(\"Solve then normalize in pu:\")\n",
    "        \n",
    "    # Compute other base quantities\n",
    "    P_base = P_base_3ph / 3  # [W]\n",
    "    V_phase_base = V_line_base / math.sqrt(3)  # [V]\n",
    "    Z_base = V_phase_base**2 / P_base\n",
    "    I_base = P_base / V_phase_base\n",
    "\n",
    "\n",
    "    # Normalize\n",
    "    Vph_pu = Vph / Phasor(V_phase_base, 0)\n",
    "    print(\"Voltage: \" + str(Vph_pu))\n",
    "\n",
    "    Z_l_pu = Z_l / Impedance(Z_base, 0)\n",
    "    print(\"Impedance: \" + str(Z_l_pu))\n",
    "    \n",
    "    I_pu = I / Phasor(I_base, 0)\n",
    "    print(\"Current: \" + str(I_pu))\n",
    "    \n",
    "    S_pu = S / P_base\n",
    "    print(\"Complex power: %.2e + j* %.2e\" % (S_pu.real, S_pu.imag))\n"
   ]
  },
  {
   "cell_type": "markdown",
   "metadata": {},
   "source": [
    "# First normalization test (check both give the same results)"
   ]
  },
  {
   "cell_type": "code",
   "execution_count": 4,
   "metadata": {
    "scrolled": true
   },
   "outputs": [
    {
     "name": "stdout",
     "output_type": "stream",
     "text": [
      "Solve in pu:\n",
      "Voltage: 1.00 < 0.00 [deg]\n",
      "Impedance: 1.25 < 36.87 deg\n",
      "Current: 0.80 < -36.87 [deg]\n",
      "Complex power: 6.40e-01 + j* 4.80e-01\n",
      "Solve then normalize in pu:\n",
      "Voltage: 1.00 < 0.00 [deg]\n",
      "Impedance: 1.25 < 36.87 deg\n",
      "Current: 0.80 < -36.87 [deg]\n",
      "Complex power: 6.40e-01 + j* 4.80e-01\n"
     ]
    }
   ],
   "source": [
    "P_base_3ph=5400\n",
    "V_line_base=120 * math.sqrt(3)\n",
    "solve_in_pu(P_base_3ph, V_line_base)\n",
    "ex_post_normalize(P_base_3ph, V_line_base)"
   ]
  },
  {
   "cell_type": "markdown",
   "metadata": {},
   "source": [
    "# Second normalization test"
   ]
  },
  {
   "cell_type": "code",
   "execution_count": 5,
   "metadata": {
    "scrolled": false
   },
   "outputs": [
    {
     "name": "stdout",
     "output_type": "stream",
     "text": [
      "Solve in pu:\n",
      "Voltage: 1.00 < 0.00 [deg]\n",
      "Impedance: 0.83 < 36.87 deg\n",
      "Current: 1.20 < -36.87 [deg]\n",
      "Complex power: 9.60e-01 + j* 7.20e-01\n",
      "Solve then normalize in pu:\n",
      "Voltage: 1.00 < 0.00 [deg]\n",
      "Impedance: 0.83 < 36.87 deg\n",
      "Current: 1.20 < -36.87 [deg]\n",
      "Complex power: 9.60e-01 + j* 7.20e-01\n"
     ]
    }
   ],
   "source": [
    "P_base_3ph=3600\n",
    "V_line_base=120 * math.sqrt(3)\n",
    "solve_in_pu(P_base_3ph, V_line_base)\n",
    "ex_post_normalize(P_base_3ph, V_line_base)"
   ]
  },
  {
   "cell_type": "markdown",
   "metadata": {},
   "source": [
    "# Third normalization test"
   ]
  },
  {
   "cell_type": "code",
   "execution_count": 6,
   "metadata": {
    "scrolled": true
   },
   "outputs": [
    {
     "name": "stdout",
     "output_type": "stream",
     "text": [
      "Solve in pu:\n",
      "Voltage: 0.87 < 0.00 [deg]\n",
      "Impedance: 0.94 < 36.87 deg\n",
      "Current: 0.92 < -36.87 [deg]\n",
      "Complex power: 6.40e-01 + j* 4.80e-01\n",
      "Solve then normalize in pu:\n",
      "Voltage: 0.87 < 0.00 [deg]\n",
      "Impedance: 0.94 < 36.87 deg\n",
      "Current: 0.92 < -36.87 [deg]\n",
      "Complex power: 6.40e-01 + j* 4.80e-01\n"
     ]
    }
   ],
   "source": [
    "P_base_3ph=5400\n",
    "V_line_base=240\n",
    "solve_in_pu(P_base_3ph, V_line_base)\n",
    "ex_post_normalize(P_base_3ph, V_line_base)"
   ]
  },
  {
   "cell_type": "markdown",
   "metadata": {},
   "source": [
    "# Fourth normalization test"
   ]
  },
  {
   "cell_type": "code",
   "execution_count": 7,
   "metadata": {
    "scrolled": true
   },
   "outputs": [
    {
     "name": "stdout",
     "output_type": "stream",
     "text": [
      "Solve in pu:\n",
      "Voltage: 0.87 < 0.00 [deg]\n",
      "Impedance: 0.62 < 36.87 deg\n",
      "Current: 1.39 < -36.87 [deg]\n",
      "Complex power: 9.60e-01 + j* 7.20e-01\n",
      "Solve then normalize in pu:\n",
      "Voltage: 0.87 < 0.00 [deg]\n",
      "Impedance: 0.62 < 36.87 deg\n",
      "Current: 1.39 < -36.87 [deg]\n",
      "Complex power: 9.60e-01 + j* 7.20e-01\n"
     ]
    }
   ],
   "source": [
    "P_base_3ph=3600\n",
    "V_line_base=240\n",
    "solve_in_pu(P_base_3ph, V_line_base)\n",
    "ex_post_normalize(P_base_3ph, V_line_base)"
   ]
  }
 ],
 "metadata": {
  "kernelspec": {
   "display_name": "Python 3",
   "language": "python",
   "name": "python3"
  },
  "language_info": {
   "codemirror_mode": {
    "name": "ipython",
    "version": 3
   },
   "file_extension": ".py",
   "mimetype": "text/x-python",
   "name": "python",
   "nbconvert_exporter": "python",
   "pygments_lexer": "ipython3",
   "version": "3.7.4"
  }
 },
 "nbformat": 4,
 "nbformat_minor": 4
}
